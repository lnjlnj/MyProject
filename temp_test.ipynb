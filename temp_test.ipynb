{
 "cells": [
  {
   "cell_type": "code",
   "execution_count": 16,
   "metadata": {
    "collapsed": true,
    "pycharm": {
     "name": "#%%\n"
    }
   },
   "outputs": [
    {
     "name": "stdout",
     "output_type": "stream",
     "text": [
      "done\n"
     ]
    }
   ],
   "source": [
    "import tqdm\n",
    "\n",
    "\"\"\"\n",
    "create binary label\n",
    "\"\"\"\n",
    "import json\n",
    "import os\n",
    "\n",
    "father_dir = '/home/leiningjie/PycharmProjects/dataset/advertisement_flickr30k_binary'\n",
    "path = '/home/leiningjie/PycharmProjects/dataset/advertisement_flickr30k_binary/adv_flickr_binary_label.json'\n",
    "\n",
    "with open(path, 'r') as f:\n",
    "    data = json.load(f)\n",
    "\n",
    "data_test = data[:1000] + data[-1000:]\n",
    "data_train = data[:-1000]\n",
    "\n",
    "with open(f'{father_dir}/train_binary.json', 'w') as f:\n",
    "    json.dump(data_train, f)\n",
    "\n",
    "with open(f'{father_dir}/test_binary.json', 'w') as f:\n",
    "    json.dump(data_test, f)\n",
    "\n",
    "print('done')\n",
    "\n"
   ]
  },
  {
   "cell_type": "code",
   "execution_count": 3,
   "outputs": [],
   "source": [
    "import pandas as pd\n",
    "import shutil\n",
    "csv_path = '/home/leiningjie/PycharmProjects/dataset/LAION/LAION-2B-en/0/vit_binary_result.csv'\n",
    "save_path = '/home/leiningjie/PycharmProjects/dataset/LAION/LAION-2B-en/0/vit_binary_image/'\n",
    "df = pd.read_csv(csv_path)\n",
    "record = []\n",
    "for index, rows in df.iterrows():\n",
    "    if rows['predict'] == 1:\n",
    "        record.append(rows['image_abs_path'])\n",
    "for n in record:\n",
    "    src = n\n",
    "    tgt = f'{save_path}/{src.split(\"/\")[-1]}'\n",
    "    shutil.copyfile(src, tgt)"
   ],
   "metadata": {
    "collapsed": false,
    "pycharm": {
     "name": "#%%\n"
    }
   }
  },
  {
   "cell_type": "code",
   "execution_count": null,
   "outputs": [],
   "source": [
    "# copy crawled laion file\n",
    "\n",
    "import json\n",
    "import pyarrow.parquet as pq\n",
    "import pandas as pd\n",
    "import pyarrow as pa\n",
    "from tqdm import tqdm\n",
    "import shutil\n",
    "import os\n",
    "\n",
    "\n",
    "csv_path_1= '/home/leiningjie/PycharmProjects/dataset/LAION/LAION-2B-en/0/record.csv'\n",
    "\n",
    "df = pd.read_csv(csv_path_1)\n",
    "df_sample = df.sample(n=100000)\n",
    "target = []\n",
    "i = 0\n",
    "for index, rows in tqdm(df_sample.iterrows()):\n",
    "    if rows['predict'] == 0:\n",
    "        i += 1\n",
    "        target.append(rows[0])\n",
    "        if i > 10000:\n",
    "            break\n",
    "\n",
    "csv_path = '/home/leiningjie/PycharmProjects/dataset/LAION/LAION-2B-en/0/'\n",
    "if os.path.exists(f'{csv_path}/test_pic') is False:\n",
    "    os.makedirs(f'{csv_path}/test_pic')\n",
    "\n",
    "for file in target:\n",
    "    shutil.copyfile(file, f'{csv_path}/test_pic/{file.split(\"/\")[-1]}')"
   ],
   "metadata": {
    "collapsed": false,
    "pycharm": {
     "name": "#%%\n"
    }
   }
  },
  {
   "cell_type": "code",
   "execution_count": 18,
   "outputs": [
    {
     "name": "stdout",
     "output_type": "stream",
     "text": [
      "1\n"
     ]
    }
   ],
   "source": [
    "from PIL import Image\n",
    "\n",
    "path = '/home/leiningjie/PycharmProjects/dataset/LAION/LAION-2B-en/0/images/batch-638/4076184000789.0.jpg'\n",
    "image = Image.open(path)\n",
    "image.show()\n",
    "print(1)"
   ],
   "metadata": {
    "collapsed": false,
    "pycharm": {
     "name": "#%%\n"
    }
   }
  },
  {
   "cell_type": "code",
   "execution_count": 12,
   "outputs": [
    {
     "name": "stdout",
     "output_type": "stream",
     "text": [
      "1\n",
      "<zip object at 0x7f5af8a2b080>\n"
     ]
    }
   ],
   "source": [
    "import json\n",
    "import pyarrow.parquet as pq\n",
    "import pandas as pd\n",
    "import pyarrow as pa\n",
    "a = [1, 2 ,3]\n",
    "b = ['a', 'b', 'c']\n",
    "\n",
    "zipped_1 = zip(a, b)\n",
    "zipped_2 = zip(a, b)\n",
    "a = str(zipped_1)\n",
    "df = pd.DataFrame({'pic_abs_path':b,\n",
    "                   'predict':a})\n",
    "table = pa.Table.from_pandas(df)\n",
    "\n",
    "# with open('./test.json', 'w') as f:\n",
    "#     json.dump(a, f)\n",
    "# with open('./test.json', 'a') as f:\n",
    "#     json.dump(b, f)\n",
    "with open('./test.txt', 'w') as f:\n",
    "    f.write(f'{str(zipped_1)}')\n",
    "with open('./test.txt', 'a') as f:\n",
    "    f.write(f'\\n{str(zipped_2)}')\n",
    "print(1)\n",
    "print(a)"
   ],
   "metadata": {
    "collapsed": false,
    "pycharm": {
     "name": "#%%\n"
    }
   }
  },
  {
   "cell_type": "code",
   "execution_count": null,
   "outputs": [],
   "source": [
    "\"\"\"\n",
    "copy meta\n",
    "\"\"\"\n",
    "\n",
    "import os\n",
    "import pandas as pd\n",
    "import torch\n",
    "import csv\n",
    "import shutil\n",
    "\n",
    "import tqdm\n",
    "\n",
    "csv_path = '/home/leiningjie/PycharmProjects/dataset/metaphor/metaphor_with_topic_2897.csv'\n",
    "img_path = '/home/leiningjie/PycharmProjects/dataset/advertisement_flickr30k_binary/total'\n",
    "\n",
    "\n",
    "# 打开 csv 文件\n",
    "with open(csv_path, mode='r', errors='ignore') as csv_file:\n",
    "    # 读取 csv 文件内容，指定分隔符和行结束符\n",
    "    csv_reader = csv.DictReader(csv_file, delimiter=',', lineterminator='\\n')\n",
    "    # 将内容转换为字典列表\n",
    "    result_dict = [row for row in csv_reader]\n",
    "\n",
    "id_total = []\n",
    "for n in result_dict:\n",
    "    id_total.append(n['Pic_id'])\n",
    "\n",
    "for n in tqdm.tqdm(id_total):\n",
    "    src = f'{img_path}/{n}'\n",
    "    tgt = f'/home/leiningjie/PycharmProjects/dataset/metaphor/images/{n}'\n",
    "    if os.path.exists(src) is True:\n",
    "        shutil.copyfile(src, tgt)\n",
    "    elif os.path.exists(f'/home/leiningjie/PycharmProjects/dataset/advertisment/10/{n}') is True:\n",
    "        src = f'/home/leiningjie/PycharmProjects/dataset/advertisment/10/{n}'\n",
    "        shutil.copyfile(src, tgt)\n",
    "    elif os.path.exists(f'/home/leiningjie/PycharmProjects/dataset/advertisment/9/{n}') is True:\n",
    "        src = f'/home/leiningjie/PycharmProjects/dataset/advertisment/9/{n}'\n",
    "        shutil.copyfile(src, tgt)\n",
    "\n",
    "\n",
    "print(result_dict)"
   ],
   "metadata": {
    "collapsed": false,
    "pycharm": {
     "name": "#%%\n",
     "is_executing": true
    }
   }
  },
  {
   "cell_type": "code",
   "execution_count": 3,
   "outputs": [
    {
     "name": "stderr",
     "output_type": "stream",
     "text": [
      "100%|██████████| 31784/31784 [00:02<00:00, 10931.39it/s]\n"
     ]
    }
   ],
   "source": [
    "import shutil\n",
    "import os\n",
    "from tqdm import tqdm\n",
    "\n",
    "src = '/home/leiningjie/PycharmProjects/dataset/advertisement_flickr30k_binary/flickr30k-images'\n",
    "tgt = '/home/leiningjie/PycharmProjects/dataset/advertisement_flickr30k_binary/total'\n",
    "file_name = os.listdir(src)\n",
    "for n in tqdm(file_name):\n",
    "    src_path = f'{src}/{n}'\n",
    "    tgt_path = f'{tgt}/{n}'\n",
    "    shutil.copyfile(src_path, tgt_path)\n"
   ],
   "metadata": {
    "collapsed": false,
    "pycharm": {
     "name": "#%%\n"
    }
   }
  },
  {
   "cell_type": "code",
   "execution_count": null,
   "outputs": [],
   "source": [
    "import torch\n",
    "\n",
    "if torch.cuda.is_available():\n",
    "    device_count = torch.cuda.device_count()\n",
    "    print(f\"当前系统可用的 GPU 数量为: {device_count}\")\n",
    "\n",
    "    for i in range(device_count):\n",
    "        print(f\"GPU {i}: {torch.cuda.get_device_name(i)}\")\n",
    "else:\n",
    "    print(\"当前系统不支持 GPU 计算\")"
   ],
   "metadata": {
    "collapsed": false,
    "pycharm": {
     "name": "#%%\n",
     "is_executing": true
    }
   }
  },
  {
   "cell_type": "code",
   "execution_count": 18,
   "outputs": [
    {
     "name": "stdout",
     "output_type": "stream",
     "text": [
      "done\n"
     ]
    }
   ],
   "source": [
    "\"\"\"\n",
    "爬取图片变为json文件\n",
    "\"\"\"\n",
    "import json\n",
    "import os\n",
    "\n",
    "images_path = '/home/leiningjie/PycharmProjects/dataset/LAION/LAION-2B-en/0/images'\n",
    "images_fold = os.listdir(images_path)\n",
    "images_abs_paths = [os.path.join(images_path, f) for f in images_fold]\n",
    "i = 0\n",
    "image = []\n",
    "for file in images_abs_paths:\n",
    "    image_path = os.listdir(file)\n",
    "    image_abs_paths = [os.path.join(file, f) for f in image_path]\n",
    "    image += image_abs_paths\n",
    "    i += len(image_abs_paths)\n",
    "with open('/home/leiningjie/PycharmProjects/dataset/LAION/LAION-2B-en/0/image_abs_paths.json', 'w') as f:\n",
    "    json.dump(image, f)\n",
    "print('done')"
   ],
   "metadata": {
    "collapsed": false,
    "pycharm": {
     "name": "#%%\n"
    }
   }
  }
 ],
 "metadata": {
  "kernelspec": {
   "display_name": "Python 3",
   "language": "python",
   "name": "python3"
  },
  "language_info": {
   "codemirror_mode": {
    "name": "ipython",
    "version": 2
   },
   "file_extension": ".py",
   "mimetype": "text/x-python",
   "name": "python",
   "nbconvert_exporter": "python",
   "pygments_lexer": "ipython2",
   "version": "2.7.6"
  }
 },
 "nbformat": 4,
 "nbformat_minor": 0
}