{
 "cells": [
  {
   "cell_type": "code",
   "execution_count": 5,
   "metadata": {
    "collapsed": true,
    "pycharm": {
     "name": "#%%\n"
    }
   },
   "outputs": [
    {
     "name": "stdout",
     "output_type": "stream",
     "text": [
      "done\n"
     ]
    }
   ],
   "source": [
    "import tqdm\n",
    "\n",
    "\"\"\"\n",
    "create binary label\n",
    "\"\"\"\n",
    "import json\n",
    "import os\n",
    "\n",
    "father_dir = '/home/leiningjie/PycharmProjects/dataset/advertisement_flickr30k_binary'\n",
    "path = '/home/leiningjie/PycharmProjects/dataset/advertisement_flickr30k_binary/adv_flickr_binary_label.json'\n",
    "\n",
    "with open(path, 'r') as f:\n",
    "    data = json.load(f)\n",
    "\n",
    "data_test = data[:1000] + data[-1000:]\n",
    "data_train = data[:-1000]\n",
    "\n",
    "with open(f'{father_dir}/train_binary.json', 'w') as f:\n",
    "    json.dump(data_train, f)\n",
    "\n",
    "with open(f'{father_dir}/test_binary.json', 'w') as f:\n",
    "    json.dump(data_test, f)\n",
    "\n",
    "print('done')\n",
    "\n"
   ]
  },
  {
   "cell_type": "code",
   "execution_count": 3,
   "outputs": [
    {
     "name": "stderr",
     "output_type": "stream",
     "text": [
      "100%|██████████| 31784/31784 [00:02<00:00, 10931.39it/s]\n"
     ]
    }
   ],
   "source": [
    "import shutil\n",
    "import os\n",
    "from tqdm import tqdm\n",
    "\n",
    "src = '/home/leiningjie/PycharmProjects/dataset/advertisement_flickr30k_binary/flickr30k-images'\n",
    "tgt = '/home/leiningjie/PycharmProjects/dataset/advertisement_flickr30k_binary/total'\n",
    "file_name = os.listdir(src)\n",
    "for n in tqdm(file_name):\n",
    "    src_path = f'{src}/{n}'\n",
    "    tgt_path = f'{tgt}/{n}'\n",
    "    shutil.copyfile(src_path, tgt_path)\n"
   ],
   "metadata": {
    "collapsed": false,
    "pycharm": {
     "name": "#%%\n"
    }
   }
  },
  {
   "cell_type": "code",
   "execution_count": 4,
   "outputs": [
    {
     "name": "stdout",
     "output_type": "stream",
     "text": [
      "当前系统可用的 GPU 数量为: 2\n",
      "GPU 0: NVIDIA GeForce RTX 3090\n",
      "GPU 1: NVIDIA GeForce RTX 3070\n"
     ]
    }
   ],
   "source": [
    "import torch\n",
    "\n",
    "if torch.cuda.is_available():\n",
    "    device_count = torch.cuda.device_count()\n",
    "    print(f\"当前系统可用的 GPU 数量为: {device_count}\")\n",
    "\n",
    "    for i in range(device_count):\n",
    "        print(f\"GPU {i}: {torch.cuda.get_device_name(i)}\")\n",
    "else:\n",
    "    print(\"当前系统不支持 GPU 计算\")"
   ],
   "metadata": {
    "collapsed": false,
    "pycharm": {
     "name": "#%%\n"
    }
   }
  }
 ],
 "metadata": {
  "kernelspec": {
   "display_name": "Python 3",
   "language": "python",
   "name": "python3"
  },
  "language_info": {
   "codemirror_mode": {
    "name": "ipython",
    "version": 2
   },
   "file_extension": ".py",
   "mimetype": "text/x-python",
   "name": "python",
   "nbconvert_exporter": "python",
   "pygments_lexer": "ipython2",
   "version": "2.7.6"
  }
 },
 "nbformat": 4,
 "nbformat_minor": 0
}